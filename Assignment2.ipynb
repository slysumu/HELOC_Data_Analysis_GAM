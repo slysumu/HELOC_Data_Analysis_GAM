{
 "cells": [
  {
   "cell_type": "markdown",
   "metadata": {},
   "source": [
    "# Name: Sumer Malhotra (3035347457)"
   ]
  },
  {
   "cell_type": "markdown",
   "metadata": {},
   "source": [
    "## Importing Libraries"
   ]
  },
  {
   "cell_type": "code",
   "execution_count": 3,
   "metadata": {},
   "outputs": [],
   "source": [
    "import pandas as pd\n",
    "import numpy as np\n",
    "import matplotlib.pyplot as plt\n",
    "from sklearn.model_selection import train_test_split\n",
    "from sklearn.impute import SimpleImputer\n",
    "from sklearn.preprocessing import KBinsDiscretizer, LabelEncoder\n",
    "from sklearn.metrics import accuracy_score, classification_report, confusion_matrix\n",
    "import scorecardpy as sc\n",
    "from pygam import LogisticGAM,f,s\n",
    "import warnings\n",
    "warnings.filterwarnings(\"ignore\")"
   ]
  },
  {
   "cell_type": "markdown",
   "metadata": {},
   "source": [
    "## Reading datasheets"
   ]
  },
  {
   "cell_type": "code",
   "execution_count": 4,
   "metadata": {},
   "outputs": [],
   "source": [
    "df1 = pd.read_csv('HelocData.csv')\n",
    "df2 = pd.read_excel('HelocDataDict.xlsx')\n",
    "riskFlag = df1['RiskFlag']"
   ]
  },
  {
   "cell_type": "markdown",
   "metadata": {},
   "source": [
    "## Feature Selection and Imputation"
   ]
  },
  {
   "cell_type": "code",
   "execution_count": 5,
   "metadata": {},
   "outputs": [
    {
     "name": "stdout",
     "output_type": "stream",
     "text": [
      "Index(['x1', 'x5', 'x16', 'x17', 'x20'], dtype='object')\n"
     ]
    }
   ],
   "source": [
    "df1 = df1[['x1', 'x5', 'x16', 'x17', 'x20']]\n",
    "df1 = df1.replace([-7, -8, -9], np.nan)\n",
    "print(df1.columns)\n",
    "imputer = SimpleImputer(missing_values=np.nan, strategy='mean')\n",
    "df1 = imputer.fit_transform(df1)\n",
    "df1 = pd.DataFrame(df1)\n",
    "df1['RiskFlag'] = riskFlag\n",
    "df1.columns = ['x1', 'x5', 'x16', 'x17', 'x20', 'RiskFlag']\n",
    "df1['RiskFlag'] = df1['RiskFlag'].replace('Good', 1)\n",
    "df1['RiskFlag'] = df1['RiskFlag'].replace('Bad', 0)\n",
    "df_cp = df1.copy()"
   ]
  },
  {
   "cell_type": "markdown",
   "metadata": {},
   "source": [
    "## Q1) IV Binning"
   ]
  },
  {
   "cell_type": "code",
   "execution_count": 6,
   "metadata": {},
   "outputs": [
    {
     "name": "stdout",
     "output_type": "stream",
     "text": [
      "[INFO] creating woe binning ...\n",
      "[INFO] creating woe binning ...\n",
      "[INFO] creating woe binning ...\n",
      "[INFO] creating woe binning ...\n",
      "[INFO] creating woe binning ...\n"
     ]
    }
   ],
   "source": [
    "x1bins = sc.woebin(df1,y='RiskFlag',x='x1')\n",
    "\n",
    "x1breaks = x1bins['x1']['breaks'].values.astype(np.float)\n",
    "x1breaks_ = np.insert(x1breaks,0,-np.inf)\n",
    "x1bins['x1']['breaks'] = x1breaks.round(3).astype(str)\n",
    "x1bins['x1']['bin'] = pd.cut(x1breaks_[:-1],x1breaks_,right=False)\n",
    "df1['x1'] = pd.cut(df1['x1'],x1breaks_,right=False)\n",
    "\n",
    "x5bins = sc.woebin(df1, y='RiskFlag', x='x5')\n",
    "x5breaks = x5bins['x5']['breaks'].values.astype(np.float)\n",
    "x5breaks_ = np.insert(x5breaks,0,-np.inf)\n",
    "x5bins['x5']['breaks'] = x5breaks.round(3).astype(str)\n",
    "x5bins['x5']['bin'] = pd.cut(x5breaks_[:-1],x5breaks_,right=False)\n",
    "df1['x5'] = pd.cut(df1['x5'],x5breaks_,right=False)\n",
    "\n",
    "x16bins = sc.woebin(df1,y='RiskFlag',x='x16')\n",
    "x16breaks = x16bins['x16']['breaks'].values.astype(np.float)\n",
    "x16breaks_ = np.insert(x16breaks,0,-np.inf)\n",
    "x16bins['x16']['breaks'] = x16breaks.round(3).astype(str)\n",
    "x16bins['x16']['bin'] = pd.cut(x16breaks_[:-1],x16breaks_,right=False)\n",
    "df1['x16'] = pd.cut(df1['x16'],x16breaks_,right=False)\n",
    "\n",
    "x17bins = sc.woebin(df1,y='RiskFlag',x='x17')\n",
    "x17bins['x17']\n",
    "x17breaks = x17bins['x17']['breaks'].values.astype(np.float)\n",
    "x17breaks_ = np.insert(x17breaks,0,-np.inf)\n",
    "x17bins['x17']['breaks'] = x17breaks.round(3).astype(str)\n",
    "x17bins['x17']['bin'] = pd.cut(x17breaks_[:-1],x17breaks_,right=False)\n",
    "df1['x17'] = pd.cut(df1['x17'],x17breaks_,right=False)\n",
    "\n",
    "x20bins = sc.woebin(df1,y='RiskFlag',x='x20')\n",
    "x20breaks = x20bins['x20']['breaks'].values.astype(np.float)\n",
    "x20breaks_ = np.insert(x20breaks,0,-np.inf)\n",
    "x20bins['x20']['breaks'] = x20breaks.round(3).astype(str)\n",
    "x20bins['x20']['bin'] = pd.cut(x20breaks_[:-1],x20breaks_,right=False)\n",
    "df1['x20'] = pd.cut(df1['x20'],x20breaks_,right=False)"
   ]
  },
  {
   "cell_type": "markdown",
   "metadata": {},
   "source": [
    " ## Label Encoding"
   ]
  },
  {
   "cell_type": "code",
   "execution_count": 7,
   "metadata": {},
   "outputs": [],
   "source": [
    "LE = LabelEncoder()\n",
    "for col in ['x1','x5','x16','x17','x20']:\n",
    "    df1[col] = LE.fit_transform(df1[col])"
   ]
  },
  {
   "cell_type": "markdown",
   "metadata": {},
   "source": [
    "## Splitting data into Train and Test"
   ]
  },
  {
   "cell_type": "markdown",
   "metadata": {},
   "source": [
    "##### Training and testing data with binning\n",
    "\n"
   ]
  },
  {
   "cell_type": "code",
   "execution_count": 8,
   "metadata": {},
   "outputs": [],
   "source": [
    "np.random.seed(3035347457)\n",
    "df_train,df_test = train_test_split(df1,test_size=0.2)\n",
    "X_train = df_train.iloc[:, 0:-1].values\n",
    "y_train = df_train.iloc[:, -1].values\n",
    "X_test = df_test.iloc[:, 0:-1].values\n",
    "y_test = df_test.iloc[:, -1].values"
   ]
  },
  {
   "cell_type": "markdown",
   "metadata": {},
   "source": [
    "##### Training and testing data without binning\n",
    "\n"
   ]
  },
  {
   "cell_type": "code",
   "execution_count": 9,
   "metadata": {},
   "outputs": [],
   "source": [
    "df_train_2,df_test_2 = train_test_split(df_cp,test_size=0.2)\n",
    "X_train_2 = df_train_2.iloc[:, 0:-1].values\n",
    "y_train_2 = df_train_2.iloc[:, -1].values\n",
    "X_test_2 = df_test_2.iloc[:, 0:-1].values\n",
    "y_test_2 = df_test_2.iloc[:, -1].values"
   ]
  },
  {
   "cell_type": "markdown",
   "metadata": {},
   "source": [
    "## Q1) Training the GAM Model"
   ]
  },
  {
   "cell_type": "code",
   "execution_count": 10,
   "metadata": {},
   "outputs": [
    {
     "name": "stderr",
     "output_type": "stream",
     "text": [
      "100% (11 of 11) |########################| Elapsed Time: 0:00:00 Time:  0:00:00\n"
     ]
    },
    {
     "data": {
      "image/png": "[encoded data removed]",
      "text/plain": [
       "<Figure size 1080x432 with 5 Axes>"
      ]
     },
     "metadata": {
      "needs_background": "light"
     },
     "output_type": "display_data"
    }
   ],
   "source": [
    "gam = LogisticGAM(f(0)+f(1)+f(2)+f(3)+f(4))\n",
    "gam.gridsearch(X_train,y_train)\n",
    "\n",
    "fig, axes = plt.subplots(1, 5,figsize=(15,6))\n",
    "titles = ['x1','x5','x16','x17','x20']\n",
    "\n",
    "for i, ax in enumerate(axes):\n",
    "    XX = gam.generate_X_grid(term=i)\n",
    "    pdep, confi = gam.partial_dependence(term=i, width=.95)\n",
    "\n",
    "    plt.subplot(axes[i])\n",
    "    plt.plot(XX[:, i], pdep)\n",
    "    plt.plot(XX[:, i], confi, c='r', ls='--')\n",
    "    plt.title(titles[i])"
   ]
  },
  {
   "cell_type": "markdown",
   "metadata": {},
   "source": [
    "## Accuracy of GAM + Binning"
   ]
  },
  {
   "cell_type": "code",
   "execution_count": 11,
   "metadata": {},
   "outputs": [
    {
     "name": "stdout",
     "output_type": "stream",
     "text": [
      "The Acc on training set: 0.7132783554440062\n",
      "The Acc on testing set: 0.6988527724665392\n"
     ]
    }
   ],
   "source": [
    "y_pred_train = gam.predict(X_train)\n",
    "y_pred_test = gam.predict(X_test)\n",
    "\n",
    "print('The Acc on training set:',accuracy_score(y_train,y_pred_train))\n",
    "print('The Acc on testing set:',accuracy_score(y_test,y_pred_test))"
   ]
  },
  {
   "cell_type": "markdown",
   "metadata": {},
   "source": [
    "## Q2) Piecewise Linear Feature Engineering"
   ]
  },
  {
   "cell_type": "code",
   "execution_count": 12,
   "metadata": {},
   "outputs": [],
   "source": [
    "gam2 = LogisticGAM(s(0,n_splines=20,spline_order=1)+s(1,n_splines=20, spline_order=1)\n",
    "                   +s(2,n_splines=20, spline_order=1)+s(3,n_splines=20, spline_order=1)\n",
    "                   +s(4,n_splines=20, spline_order=1))"
   ]
  },
  {
   "cell_type": "markdown",
   "metadata": {},
   "source": [
    "##### Model Accuracy on binned data"
   ]
  },
  {
   "cell_type": "code",
   "execution_count": 13,
   "metadata": {},
   "outputs": [
    {
     "name": "stderr",
     "output_type": "stream",
     "text": [
      "100% (11 of 11) |########################| Elapsed Time: 0:00:01 Time:  0:00:01\n"
     ]
    },
    {
     "name": "stdout",
     "output_type": "stream",
     "text": [
      "The Acc on training set: 0.7124417353890283\n",
      "The Acc on testing set: 0.6993307839388145\n"
     ]
    }
   ],
   "source": [
    "gam2.gridsearch(X_train,y_train)\n",
    "y_pred_train = gam2.predict(X_train)\n",
    "y_pred_test = gam2.predict(X_test)\n",
    "print('The Acc on training set:',accuracy_score(y_train,y_pred_train))\n",
    "print('The Acc on testing set:',accuracy_score(y_test,y_pred_test))"
   ]
  },
  {
   "cell_type": "markdown",
   "metadata": {},
   "source": [
    "##### Model Accuracy on unbinned data"
   ]
  },
  {
   "cell_type": "code",
   "execution_count": 14,
   "metadata": {},
   "outputs": [
    {
     "name": "stderr",
     "output_type": "stream",
     "text": [
      "100% (11 of 11) |########################| Elapsed Time: 0:00:01 Time:  0:00:01\n"
     ]
    },
    {
     "name": "stdout",
     "output_type": "stream",
     "text": [
      "The Acc on training set: 0.7123222182383172\n",
      "The Acc on testing set: 0.7151051625239006\n"
     ]
    }
   ],
   "source": [
    "gam2.gridsearch(X_train_2,y_train_2)\n",
    "y_pred_train = gam2.predict(X_train_2)\n",
    "y_pred_test = gam2.predict(X_test_2)\n",
    "print('The Acc on training set:',accuracy_score(y_train_2,y_pred_train))\n",
    "print('The Acc on testing set:',accuracy_score(y_test_2,y_pred_test))"
   ]
  },
  {
   "cell_type": "markdown",
   "metadata": {},
   "source": [
    "## Q3) Penalized B-Spline + Accuracy"
   ]
  },
  {
   "cell_type": "markdown",
   "metadata": {},
   "source": [
    "##### Model Accuracy on binned data"
   ]
  },
  {
   "cell_type": "code",
   "execution_count": 15,
   "metadata": {},
   "outputs": [
    {
     "name": "stderr",
     "output_type": "stream",
     "text": [
      "100% (11 of 11) |########################| Elapsed Time: 0:00:01 Time:  0:00:01\n",
      "N/A% (0 of 11) |                         | Elapsed Time: 0:00:00 ETA:  --:--:--"
     ]
    },
    {
     "name": "stdout",
     "output_type": "stream",
     "text": [
      "The Acc on training set: 0.7124417353890283\n",
      "The Acc on testing set: 0.6993307839388145\n"
     ]
    },
    {
     "name": "stderr",
     "output_type": "stream",
     "text": [
      "100% (11 of 11) |########################| Elapsed Time: 0:00:01 Time:  0:00:01\n"
     ]
    },
    {
     "name": "stdout",
     "output_type": "stream",
     "text": [
      "The Acc on training set: 0.7124417353890283\n",
      "The Acc on testing set: 0.6993307839388145\n"
     ]
    }
   ],
   "source": [
    "spline_orders = [2,3]\n",
    "for order in spline_orders:\n",
    "    p_spl = LogisticGAM(s(0,n_splines=20, penalties='derivative', spline_order=order)\n",
    "                        +s(1,n_splines=20,penalties='derivative', spline_order=order)\n",
    "                        +s(2,n_splines=20, penalties='derivative', spline_order=order)\n",
    "                        +s(3,n_splines=20,penalties='derivative', spline_order=order)\n",
    "                        +s(4,n_splines=20, penalties='derivative', spline_order=order))\n",
    "    p_spl.gridsearch(X_train, y_train)\n",
    "\n",
    "    y_pred_train3 = p_spl.predict(X_train)\n",
    "    y_pred_test3 = p_spl.predict(X_test)\n",
    "\n",
    "    print('The Acc on training set:',accuracy_score(y_train,y_pred_train3))\n",
    "    print('The Acc on testing set:',accuracy_score(y_test,y_pred_test3))"
   ]
  },
  {
   "cell_type": "markdown",
   "metadata": {},
   "source": [
    "##### Model Accuracy on unbinned data"
   ]
  },
  {
   "cell_type": "code",
   "execution_count": 17,
   "metadata": {},
   "outputs": [
    {
     "name": "stderr",
     "output_type": "stream",
     "text": [
      "100% (11 of 11) |########################| Elapsed Time: 0:00:02 Time:  0:00:02\n",
      "N/A% (0 of 11) |                         | Elapsed Time: 0:00:00 ETA:  --:--:--"
     ]
    },
    {
     "name": "stdout",
     "output_type": "stream",
     "text": [
      "The Acc on training set: 0.7129198039918728\n",
      "The Acc on testing set: 0.7122370936902486\n"
     ]
    },
    {
     "name": "stderr",
     "output_type": "stream",
     "text": [
      "100% (11 of 11) |########################| Elapsed Time: 0:00:03 Time:  0:00:03\n",
      "N/A% (0 of 11) |                         | Elapsed Time: 0:00:00 ETA:  --:--:--"
     ]
    },
    {
     "name": "stdout",
     "output_type": "stream",
     "text": [
      "The Acc on training set: 0.7129198039918728\n",
      "The Acc on testing set: 0.7127151051625239\n"
     ]
    },
    {
     "name": "stderr",
     "output_type": "stream",
     "text": [
      "100% (11 of 11) |########################| Elapsed Time: 0:00:03 Time:  0:00:03\n",
      "N/A% (0 of 11) |                         | Elapsed Time: 0:00:00 ETA:  --:--:--"
     ]
    },
    {
     "name": "stdout",
     "output_type": "stream",
     "text": [
      "The Acc on training set: 0.7129198039918728\n",
      "The Acc on testing set: 0.7131931166347992\n"
     ]
    },
    {
     "name": "stderr",
     "output_type": "stream",
     "text": [
      "100% (11 of 11) |########################| Elapsed Time: 0:00:03 Time:  0:00:03\n",
      "N/A% (0 of 11) |                         | Elapsed Time: 0:00:00 ETA:  --:--:--"
     ]
    },
    {
     "name": "stdout",
     "output_type": "stream",
     "text": [
      "The Acc on training set: 0.7126807696904506\n",
      "The Acc on testing set: 0.7136711281070746\n"
     ]
    },
    {
     "name": "stderr",
     "output_type": "stream",
     "text": [
      "100% (11 of 11) |########################| Elapsed Time: 0:00:03 Time:  0:00:03\n",
      "N/A% (0 of 11) |                         | Elapsed Time: 0:00:00 ETA:  --:--:--"
     ]
    },
    {
     "name": "stdout",
     "output_type": "stream",
     "text": [
      "The Acc on training set: 0.7128002868411617\n",
      "The Acc on testing set: 0.7141491395793499\n"
     ]
    },
    {
     "name": "stderr",
     "output_type": "stream",
     "text": [
      "100% (11 of 11) |########################| Elapsed Time: 0:00:03 Time:  0:00:03\n",
      "N/A% (0 of 11) |                         | Elapsed Time: 0:00:00 ETA:  --:--:--"
     ]
    },
    {
     "name": "stdout",
     "output_type": "stream",
     "text": [
      "The Acc on training set: 0.7135173897454284\n",
      "The Acc on testing set: 0.7136711281070746\n"
     ]
    },
    {
     "name": "stderr",
     "output_type": "stream",
     "text": [
      "100% (11 of 11) |########################| Elapsed Time: 0:00:03 Time:  0:00:03\n",
      "N/A% (0 of 11) |                         | Elapsed Time: 0:00:00 ETA:  --:--:--"
     ]
    },
    {
     "name": "stdout",
     "output_type": "stream",
     "text": [
      "The Acc on training set: 0.7129198039918728\n",
      "The Acc on testing set: 0.7146271510516252\n"
     ]
    },
    {
     "name": "stderr",
     "output_type": "stream",
     "text": [
      "100% (11 of 11) |########################| Elapsed Time: 0:00:03 Time:  0:00:03\n",
      "N/A% (0 of 11) |                         | Elapsed Time: 0:00:00 ETA:  --:--:--"
     ]
    },
    {
     "name": "stdout",
     "output_type": "stream",
     "text": [
      "The Acc on training set: 0.7128002868411617\n",
      "The Acc on testing set: 0.7155831739961759\n"
     ]
    },
    {
     "name": "stderr",
     "output_type": "stream",
     "text": [
      "100% (11 of 11) |########################| Elapsed Time: 0:00:03 Time:  0:00:03\n",
      "N/A% (0 of 11) |                         | Elapsed Time: 0:00:00 ETA:  --:--:--"
     ]
    },
    {
     "name": "stdout",
     "output_type": "stream",
     "text": [
      "The Acc on training set: 0.7129198039918728\n",
      "The Acc on testing set: 0.7146271510516252\n"
     ]
    },
    {
     "name": "stderr",
     "output_type": "stream",
     "text": [
      "100% (11 of 11) |########################| Elapsed Time: 0:00:04 Time:  0:00:04\n"
     ]
    },
    {
     "name": "stdout",
     "output_type": "stream",
     "text": [
      "The Acc on training set: 0.7133978725947173\n",
      "The Acc on testing set: 0.7146271510516252\n"
     ]
    }
   ],
   "source": [
    "spline_orders = [i for i in range(1,11)]\n",
    "for order in spline_orders:\n",
    "    p_spl = LogisticGAM(s(0,n_splines=20, penalties='derivative', spline_order=order)\n",
    "                        +s(1,n_splines=20,penalties='derivative', spline_order=order)\n",
    "                        +s(2,n_splines=20, penalties='derivative', spline_order=order)\n",
    "                        +s(3,n_splines=20,penalties='derivative', spline_order=order)\n",
    "                        +s(4,n_splines=20, penalties='derivative', spline_order=order))\n",
    "    p_spl.gridsearch(X_train_2, y_train_2) \n",
    "\n",
    "    y_pred_train3 = p_spl.predict(X_train_2)\n",
    "    y_pred_test3 = p_spl.predict(X_test_2)\n",
    "\n",
    "    print('The Acc on training set:',accuracy_score(y_train_2,y_pred_train3))\n",
    "    print('The Acc on testing set:',accuracy_score(y_test_2,y_pred_test3))"
   ]
  },
  {
   "cell_type": "markdown",
   "metadata": {},
   "source": [
    "## Q4)  Model Evaluation\n",
    "\n",
    "### Models used\n",
    "1. Generalized Additive Model with Binning\n",
    "2. Generalized Additive Model with Piecewise Linear Feature Engineering\n",
    "3. Generalized Additive Model with Penalized B-Splines\n",
    "\n",
    "### Evaluation Criteria\n",
    "1. Model Explainability \n",
    "2. Model Accuracy\n",
    "\n",
    "I will only consider the accuracy on the testing data. For 2 and 3, the model has been fitted on both binned and unbinned data. For these cases, I will consider the model with higher testing accuracy. For 3, the model has been tested with spline orders of 1, 2 and 3. Again, I will consider the model with the highest testing accuracy. \n",
    "\n",
    "### Results and Recommendation\n",
    "The accuracy for the following models is as follows:\n",
    "1. Generalized Additive Model with Binning (69.89%)\n",
    "2. Generalized Additive Model with Piecewise Linear Feature Engineering (71.51%)\n",
    "3. Generalized Additive Model with Penalized B-Splines (71.32%)\n",
    "\n",
    "In terms of Model accuracy, GAM with Piecewise Linear Feature Engineering is the highest. The difference in accuracies between the models however, don't appear to be significant and can be attributed to statistical error.\n",
    "\n",
    "In terms of interpretability, I would assess that the models are fairly equivalent. In terms of accuracy, it is intuitive that classifying categorical variables as categorical and continuous variables as continous (i.e. using s(.) and f(.) appropriately) is sure to increase accuracy. Due to time constraints involved with the working of python libraries like pygam, scorecardpy and progressbar on the latest installation of mac OS, I had difficulty in comprehensively testing more combinations. \n",
    "\n",
    "- For the binning algo, there are multiple techniques that can be applied like equal width and frequency binning. Furthermore, there is support for binning through various python packages like pandas, sci-kit learn and scorecardpy. Testing of all these algos on the model may affect the final accuracy of the first model. After the binning step, encoding is done and can be done in different ways. For the purpose of this assignment, LabelEncoder() is used, however OneHotEncoder() may give more promising results. \n",
    "\n",
    "- For Linear GAM, increasing/decreasing the number of splines may increase model accuracy.\n",
    "\n",
    "- For B-Splines GAM, increasing/decreasing the number of splines may increase model accuracy as well. Furthermore, modifcation and optimization of spline order will increase accuracy (In extreme cases this could lead to over/under fitting). Other things that could contribute to model accuracy for this is using s(.) and f(.) optimally for the variables. Correct usage of these pygam packages could significantly increase accuracy.\n",
    "\n",
    "In terms of explainability, I can conclude that the binning technique is more understandable than the other 2. However, the most significant differnece in accuracy can be seen between binning and linear GAM and b-splines GAM. Therefore, I conclude that linear GAM/b-splines is the best model and should be applied for this problem after further investigating the causal effects between the features and the response. The mathematics involved is complex and not immediately understandable but certain inferences can be taken by looking at the performance of the model for different parameters which makes model-tuning possible. \n",
    "\n",
    "### Extra Inferences\n",
    "\n",
    "An interesting observation for the Generalized Additive Model with Penalized B-Splines is that, on increasing the spline order, the accuracy gradually increases up until degree 5, after which it stabilizes at around 71.5%. [I tested degrees 1-10]"
   ]
  }
 ],
 "metadata": {
  "kernelspec": {
   "display_name": "Python 3",
   "language": "python",
   "name": "python3"
  },
  "language_info": {
   "codemirror_mode": {
    "name": "ipython",
    "version": 3
   },
   "file_extension": ".py",
   "mimetype": "text/x-python",
   "name": "python",
   "nbconvert_exporter": "python",
   "pygments_lexer": "ipython3",
   "version": "3.7.4"
  }
 },
 "nbformat": 4,
 "nbformat_minor": 2
}
